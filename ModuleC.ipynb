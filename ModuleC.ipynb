{
  "nbformat": 4,
  "nbformat_minor": 0,
  "metadata": {
    "colab": {
      "provenance": [],
      "authorship_tag": "ABX9TyPLJqIr+Gr+UMFEbBCkJA1w",
      "include_colab_link": true
    },
    "kernelspec": {
      "name": "python3",
      "display_name": "Python 3"
    },
    "language_info": {
      "name": "python"
    }
  },
  "cells": [
    {
      "cell_type": "markdown",
      "metadata": {
        "id": "view-in-github",
        "colab_type": "text"
      },
      "source": [
        "<a href=\"https://colab.research.google.com/github/i8dacake/Mat-421/blob/main/ModuleC.ipynb\" target=\"_parent\"><img src=\"https://colab.research.google.com/assets/colab-badge.svg\" alt=\"Open In Colab\"/></a>"
      ]
    },
    {
      "cell_type": "markdown",
      "source": [
        "#**19. Root Finding**"
      ],
      "metadata": {
        "id": "YXGqyxwFSloB"
      }
    },
    {
      "cell_type": "markdown",
      "source": [
        "For applications in the engineering field, it is imperative to be able to find the roots of a function. For simple functions, one can use the quadratic formula. But for complicated functions, it is difficult to find an exact solution for the roots. Therefore, another method must be adopted."
      ],
      "metadata": {
        "id": "FeLnUiTIU6dQ"
      }
    },
    {
      "cell_type": "markdown",
      "source": [
        "###**19.1 Root Finding Problem Statement**"
      ],
      "metadata": {
        "id": "B53mZZ9aSbov"
      }
    },
    {
      "cell_type": "markdown",
      "source": [
        "In the case of f(x) = $x^2$ - 9, the roots are -3 and 3. However, f(x) = cos(x) - x, it is difficult to find the exact roots. For these cases, numerical approximations of the roots of the function are quite useful."
      ],
      "metadata": {
        "id": "exeTEo8fWWjM"
      }
    },
    {
      "cell_type": "markdown",
      "source": [
        "\n",
        "**Use fsolve function from scipy to compute the root of 𝑓(𝑥)=cos(𝑥)−𝑥 near −2. Verify that the solution is a root (or close enough).**"
      ],
      "metadata": {
        "id": "n0nd_hVEXmdf"
      }
    },
    {
      "cell_type": "code",
      "execution_count": 1,
      "metadata": {
        "colab": {
          "base_uri": "https://localhost:8080/"
        },
        "id": "hfcfs9qhSN0Z",
        "outputId": "f1b35018-3a23-4c1a-8361-798038bb8aa4"
      },
      "outputs": [
        {
          "output_type": "stream",
          "name": "stdout",
          "text": [
            "r = [0.73908513]\n",
            "result= [0.]\n"
          ]
        }
      ],
      "source": [
        "import numpy as np\n",
        "from scipy import optimize\n",
        "\n",
        "f = lambda x: np.cos(x) - x\n",
        "r = optimize.fsolve(f, -2)\n",
        "print(\"r =\", r)\n",
        "\n",
        "# Verifying the solution is a root.\n",
        "result = f(r)\n",
        "print(\"result=\", result)"
      ]
    },
    {
      "cell_type": "markdown",
      "source": [
        "\n",
        "**Use fsolve function from scipy to compute the root of 𝑓(𝑥)=tan(𝑥) + 2 near 2. Verify that the solution is a root (or close enough).**"
      ],
      "metadata": {
        "id": "A3TvuapwYOsp"
      }
    },
    {
      "cell_type": "code",
      "source": [
        "import numpy as np\n",
        "from scipy import optimize\n",
        "\n",
        "f = lambda x: np.tan(x) + 2\n",
        "r = optimize.fsolve(f, 2.03)\n",
        "print(\"r =\", r)\n",
        "\n",
        "# Verifying the solution is a root.\n",
        "result = f(r)\n",
        "print(\"result=\", result)"
      ],
      "metadata": {
        "colab": {
          "base_uri": "https://localhost:8080/"
        },
        "id": "DHRKC3FoYXoB",
        "outputId": "6b571bdf-d539-4983-ef38-bb36fa00e458"
      },
      "execution_count": 8,
      "outputs": [
        {
          "output_type": "stream",
          "name": "stdout",
          "text": [
            "r = [2.03444394]\n",
            "result= [0.]\n"
          ]
        }
      ]
    },
    {
      "cell_type": "markdown",
      "source": [
        "In both the problems, we observe that the root are close enough."
      ],
      "metadata": {
        "id": "If6Ysbquaecj"
      }
    },
    {
      "cell_type": "markdown",
      "source": [
        "###**19.2 Tolerance**"
      ],
      "metadata": {
        "id": "CVkJaBcgSvIU"
      }
    },
    {
      "cell_type": "markdown",
      "source": [
        "We know how to find roots to complicated functions. Since we use numerical approximations of the functions of the roots, it is essential to understand how much deviation from the expected value is allowed in the context of the problem. Therefore, we must find the tolerance value. Tolerance is the acceptable level of error for applications in engineering. Error is the value of deviation from an expected or computed value. When a computer program finds a solution that is smaller than the tolerance, then we say that the computer program has converged to a solution."
      ],
      "metadata": {
        "id": "thQp55PsaY0n"
      }
    },
    {
      "cell_type": "markdown",
      "source": [
        "###**19.3 Bisection Method**"
      ],
      "metadata": {
        "id": "0AGZkACqS1yo"
      }
    },
    {
      "cell_type": "markdown",
      "source": [
        "This method employs the Intermediate Value Theorem iteratively to find roots. The Intermediate Value Theorem says that if 𝑓(𝑥) is a continuous function between 𝑎 and 𝑏, and sign (𝑓(𝑎)) ≠ sign(𝑓(𝑏)), then there must be a 𝑐, such that 𝑎 < 𝑐 <𝑏 and 𝑓(𝑐) = 0."
      ],
      "metadata": {
        "id": "nlyowkkdkG95"
      }
    },
    {
      "cell_type": "markdown",
      "source": [
        "**Program a function my_bisection(f, a, b, tol) that approximates a root 𝑟 of 𝑓, bounded by 𝑎 and 𝑏 to within |𝑓(𝑎 +𝑏)/2)|<tol.**"
      ],
      "metadata": {
        "id": "EaUCiA_MlCPo"
      }
    },
    {
      "cell_type": "code",
      "source": [
        "import numpy as np\n",
        "\n",
        "def my_bisection(f, a, b, tol):\n",
        "\n",
        "    if np.sign(f(a)) == np.sign(f(b)):\n",
        "        raise Exception(\n",
        "         \"The scalars a and b do not bound a root\")\n",
        "\n",
        "    # Gives midpoint.\n",
        "    m = (a + b)/2\n",
        "\n",
        "    if np.abs(f(m)) < tol:\n",
        "        return m\n",
        "    elif np.sign(f(a)) == np.sign(f(m)):\n",
        "        # Recursive call for a = m.\n",
        "        return my_bisection(f, m, b, tol)\n",
        "    elif np.sign(f(b)) == np.sign(f(m)):\n",
        "        # Recursive call for a = b.\n",
        "        return my_bisection(f, a, m, tol)"
      ],
      "metadata": {
        "id": "69cC7Sz5S3_9"
      },
      "execution_count": 9,
      "outputs": []
    },
    {
      "cell_type": "markdown",
      "source": [
        "The $\\sqrt{2}$ can be computed as the root of the function 𝑓(𝑥) = $𝑥^2$ − 2. Starting at 𝑎 = 0 and 𝑏 = 2, use my_bisection to approximate the $\\sqrt{2}$ to a tolerance of |𝑓(𝑥)| < 0.1 and |𝑓(𝑥)| < 0.01. Verify that the results are close to a root by plugging the root back into the function."
      ],
      "metadata": {
        "id": "xLO4mYQNlfaT"
      }
    },
    {
      "cell_type": "code",
      "source": [
        "f = lambda x: x**2 - 2\n",
        "\n",
        "r1 = my_bisection(f, 0, 2, 0.1)\n",
        "print(\"r1 =\", r1)\n",
        "r01 = my_bisection(f, 0, 2, 0.01)\n",
        "print(\"r01 =\", r01)\n",
        "\n",
        "print(\"f(r1) =\", f(r1))\n",
        "print(\"f(r01) =\", f(r01))"
      ],
      "metadata": {
        "colab": {
          "base_uri": "https://localhost:8080/"
        },
        "id": "DMfnaJfCl5U4",
        "outputId": "72130e8c-c2a4-4932-96f8-0cbfb7a75bc4"
      },
      "execution_count": 10,
      "outputs": [
        {
          "output_type": "stream",
          "name": "stdout",
          "text": [
            "r1 = 1.4375\n",
            "r01 = 1.4140625\n",
            "f(r1) = 0.06640625\n",
            "f(r01) = -0.00042724609375\n"
          ]
        }
      ]
    },
    {
      "cell_type": "markdown",
      "source": [
        "We can see that f(r1) is close to zero. So, r1 is close to the root."
      ],
      "metadata": {
        "id": "TpOhP3T4mbTn"
      }
    },
    {
      "cell_type": "markdown",
      "source": [
        "**See what will happen if you use 𝑎 = 2 and 𝑏 = 4 for the above function.**"
      ],
      "metadata": {
        "id": "uyiSfdLimzQt"
      }
    },
    {
      "cell_type": "code",
      "source": [
        "my_bisection(f, 2, 4, 0.01)"
      ],
      "metadata": {
        "colab": {
          "base_uri": "https://localhost:8080/",
          "height": 293
        },
        "id": "KBARMuLQmCFA",
        "outputId": "849e945c-f3eb-484c-9522-30b05d812a11"
      },
      "execution_count": 11,
      "outputs": [
        {
          "output_type": "error",
          "ename": "Exception",
          "evalue": "The scalars a and b do not bound a root",
          "traceback": [
            "\u001b[0;31m---------------------------------------------------------------------------\u001b[0m",
            "\u001b[0;31mException\u001b[0m                                 Traceback (most recent call last)",
            "\u001b[0;32m<ipython-input-11-4158b7a9ae67>\u001b[0m in \u001b[0;36m<cell line: 1>\u001b[0;34m()\u001b[0m\n\u001b[0;32m----> 1\u001b[0;31m \u001b[0mmy_bisection\u001b[0m\u001b[0;34m(\u001b[0m\u001b[0mf\u001b[0m\u001b[0;34m,\u001b[0m \u001b[0;36m2\u001b[0m\u001b[0;34m,\u001b[0m \u001b[0;36m4\u001b[0m\u001b[0;34m,\u001b[0m \u001b[0;36m0.01\u001b[0m\u001b[0;34m)\u001b[0m\u001b[0;34m\u001b[0m\u001b[0;34m\u001b[0m\u001b[0m\n\u001b[0m",
            "\u001b[0;32m<ipython-input-9-16abcbcc22f8>\u001b[0m in \u001b[0;36mmy_bisection\u001b[0;34m(f, a, b, tol)\u001b[0m\n\u001b[1;32m      4\u001b[0m \u001b[0;34m\u001b[0m\u001b[0m\n\u001b[1;32m      5\u001b[0m     \u001b[0;32mif\u001b[0m \u001b[0mnp\u001b[0m\u001b[0;34m.\u001b[0m\u001b[0msign\u001b[0m\u001b[0;34m(\u001b[0m\u001b[0mf\u001b[0m\u001b[0;34m(\u001b[0m\u001b[0ma\u001b[0m\u001b[0;34m)\u001b[0m\u001b[0;34m)\u001b[0m \u001b[0;34m==\u001b[0m \u001b[0mnp\u001b[0m\u001b[0;34m.\u001b[0m\u001b[0msign\u001b[0m\u001b[0;34m(\u001b[0m\u001b[0mf\u001b[0m\u001b[0;34m(\u001b[0m\u001b[0mb\u001b[0m\u001b[0;34m)\u001b[0m\u001b[0;34m)\u001b[0m\u001b[0;34m:\u001b[0m\u001b[0;34m\u001b[0m\u001b[0;34m\u001b[0m\u001b[0m\n\u001b[0;32m----> 6\u001b[0;31m         raise Exception(\n\u001b[0m\u001b[1;32m      7\u001b[0m          \"The scalars a and b do not bound a root\")\n\u001b[1;32m      8\u001b[0m \u001b[0;34m\u001b[0m\u001b[0m\n",
            "\u001b[0;31mException\u001b[0m: The scalars a and b do not bound a root"
          ]
        }
      ]
    },
    {
      "cell_type": "markdown",
      "source": [
        "There is no root for the bounds a = 2 and b = 4."
      ],
      "metadata": {
        "id": "_4dEEewSmsjO"
      }
    },
    {
      "cell_type": "markdown",
      "source": [
        "###**19.4 Newton-Raphson Method**"
      ],
      "metadata": {
        "id": "3EPUiKxtS48N"
      }
    },
    {
      "cell_type": "markdown",
      "source": [
        "This method is another technique to find the roots of a function by first making an initial guess and then iteratively improving that guess using the function and its derivative."
      ],
      "metadata": {
        "id": "vKy-KeuUrOrN"
      }
    },
    {
      "cell_type": "markdown",
      "source": [
        "**The $\\sqrt{2}$ is the root of the function 𝑓(𝑥) = $𝑥^2$ − 2. Use 𝑥0 = 1.4 as a starting point. Compare this approximation with the value computed by Python’s sqrt function.**"
      ],
      "metadata": {
        "id": "ugIWPJLVsc3W"
      }
    },
    {
      "cell_type": "code",
      "source": [
        "import numpy as np\n",
        "\n",
        "f = lambda x: x**2 - 2\n",
        "f_prime = lambda x: 2*x\n",
        "newton_raphson = 1.4 - (f(1.4))/(f_prime(1.4))\n",
        "\n",
        "print(\"newton_raphson =\", newton_raphson)\n",
        "print(\"sqrt(2) =\", np.sqrt(2))"
      ],
      "metadata": {
        "colab": {
          "base_uri": "https://localhost:8080/"
        },
        "id": "c_i2IcDoswd_",
        "outputId": "c5565a6d-3e31-4fdd-95fe-453535baeaf9"
      },
      "execution_count": 34,
      "outputs": [
        {
          "output_type": "stream",
          "name": "stdout",
          "text": [
            "newton_raphson = 1.4142857142857144\n",
            "sqrt(2) = 1.4142135623730951\n"
          ]
        }
      ]
    },
    {
      "cell_type": "markdown",
      "source": [
        "**The $\\sqrt{7}$ is the root of the function 𝑓(𝑥) = $𝑥^3$ − 7. Use 𝑥0 = 2 as a starting point. Compare this approximation with the value computed by Python’s sqrt function.**"
      ],
      "metadata": {
        "id": "z4kRYc7TtfM1"
      }
    },
    {
      "cell_type": "code",
      "source": [
        "import numpy as np\n",
        "\n",
        "f = lambda x: x**3 - 7\n",
        "f_prime = lambda x: 3*x**2\n",
        "newton_raphson = 2 - (f(2) / f_prime(2))\n",
        "\n",
        "print(\"Newton-Raphson approximation:\", newton_raphson)\n",
        "print(\"Actual cube root of 7:\", np.cbrt(7))\n"
      ],
      "metadata": {
        "colab": {
          "base_uri": "https://localhost:8080/"
        },
        "id": "Q9pytVVVtAVB",
        "outputId": "97763057-a5bf-42c2-ed60-fd9a0be87971"
      },
      "execution_count": 35,
      "outputs": [
        {
          "output_type": "stream",
          "name": "stdout",
          "text": [
            "Newton-Raphson approximation: 1.9166666666666667\n",
            "Actual cube root of 7: 1.9129311827723894\n"
          ]
        }
      ]
    },
    {
      "cell_type": "markdown",
      "source": [
        " **Write a function 𝑚𝑦_𝑛𝑒𝑤𝑡𝑜𝑛(𝑓,𝑑𝑓,𝑥0,𝑡𝑜𝑙), where the output is an estimation of the root of f, f is a function object 𝑓\\(𝑥), df is a function object to 𝑓′(𝑥), x0 is an initial guess, and tol is the error tolerance. The error measurement should be |𝑓(𝑥)|. Use my_newton= to compute $\\sqrt{2}$ to within tolerance of 1e-6 starting at x0 = 1.5.**"
      ],
      "metadata": {
        "id": "kfhCPIH5t8Fw"
      }
    },
    {
      "cell_type": "code",
      "source": [
        "def my_newton(f, df, x0, tol):\n",
        "    # output is an estimation of the root of f\n",
        "    # using the Newton Raphson method\n",
        "    # recursive implementation\n",
        "    if abs(f(x0)) < tol:\n",
        "        return x0\n",
        "    else:\n",
        "        return my_newton(f, df, x0 - f(x0)/df(x0), tol)\n",
        "\n",
        "estimate = my_newton(f, f_prime, 1.5, 1e-6)\n",
        "print(\"estimate =\", estimate)\n",
        "print(\"sqrt(2) =\", np.sqrt(2))"
      ],
      "metadata": {
        "colab": {
          "base_uri": "https://localhost:8080/"
        },
        "id": "nozku7mCuGg-",
        "outputId": "82c80504-1e2a-492c-b866-c305489440cd"
      },
      "execution_count": 39,
      "outputs": [
        {
          "output_type": "stream",
          "name": "stdout",
          "text": [
            "estimate = 1.9129311831981042\n",
            "sqrt(2) = 1.4142135623730951\n"
          ]
        }
      ]
    },
    {
      "cell_type": "markdown",
      "source": [
        "###**19.5 Root Finding in Python**"
      ],
      "metadata": {
        "id": "GOBjdz3KTYkY"
      }
    },
    {
      "cell_type": "markdown",
      "source": [
        "Python has functions that finds the roots for us. For instance, we can use f_solve from scipy.optimize."
      ],
      "metadata": {
        "id": "vBGbxsiynGqo"
      }
    },
    {
      "cell_type": "markdown",
      "source": [
        "**Compute the root of the function 𝑓(𝑥) = $𝑥^3$ − 100 $𝑥^2$ − 𝑥 + 100 using f_solve. To check, the roots of the function are x = 1 and x = 100.**"
      ],
      "metadata": {
        "id": "j5oFeXkmnq4k"
      }
    },
    {
      "cell_type": "code",
      "source": [
        "from scipy.optimize import fsolve\n",
        "\n",
        "f = lambda x: x**3-100*x**2-x+100\n",
        "\n",
        "fsolve(f, [2, 80])"
      ],
      "metadata": {
        "colab": {
          "base_uri": "https://localhost:8080/"
        },
        "id": "WRScu900nmV_",
        "outputId": "56a5f3b4-a0d3-43fe-b64f-33c872da5a82"
      },
      "execution_count": 15,
      "outputs": [
        {
          "output_type": "execute_result",
          "data": {
            "text/plain": [
              "array([  1., 100.])"
            ]
          },
          "metadata": {},
          "execution_count": 15
        }
      ]
    },
    {
      "cell_type": "markdown",
      "source": [
        "**Compute the root of the function 𝑓(𝑥) = $𝑥^4$ − 4x using f_solve. To check, the roots of the function are x = 0 and x = 1.587.**"
      ],
      "metadata": {
        "id": "Wq9JxvtToNIR"
      }
    },
    {
      "cell_type": "code",
      "source": [
        "from scipy.optimize import fsolve\n",
        "\n",
        "f = lambda x: x**4-4*x\n",
        "fsolve(f, [0, 1.5])"
      ],
      "metadata": {
        "colab": {
          "base_uri": "https://localhost:8080/"
        },
        "id": "CBbBKDT1oS5J",
        "outputId": "67b69a1c-062d-4f5c-d974-a97109ae3a78"
      },
      "execution_count": 30,
      "outputs": [
        {
          "output_type": "execute_result",
          "data": {
            "text/plain": [
              "array([0.        , 1.58740105])"
            ]
          },
          "metadata": {},
          "execution_count": 30
        }
      ]
    }
  ]
}