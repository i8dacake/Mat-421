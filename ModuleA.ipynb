{
  "nbformat": 4,
  "nbformat_minor": 0,
  "metadata": {
    "colab": {
      "provenance": [],
      "collapsed_sections": [
        "vmbnbCgLYl9c",
        "LL_qrjvJlf9m",
        "y8IMILB3B5wo"
      ],
      "authorship_tag": "ABX9TyPrnioePYv625ahmJuBBLAL",
      "include_colab_link": true
    },
    "kernelspec": {
      "name": "python3",
      "display_name": "Python 3"
    },
    "language_info": {
      "name": "python"
    }
  },
  "cells": [
    {
      "cell_type": "markdown",
      "metadata": {
        "id": "view-in-github",
        "colab_type": "text"
      },
      "source": [
        "<a href=\"https://colab.research.google.com/github/i8dacake/Mat-421/blob/main/ModuleA.ipynb\" target=\"_parent\"><img src=\"https://colab.research.google.com/assets/colab-badge.svg\" alt=\"Open In Colab\"/></a>"
      ]
    },
    {
      "cell_type": "markdown",
      "source": [
        "# **9.1 Base-N and Binary**"
      ],
      "metadata": {
        "id": "vmbnbCgLYl9c"
      }
    },
    {
      "cell_type": "markdown",
      "source": [
        "Numbers can be represented in different ways. This section explores the decimal and binary number systems.\n",
        "\n",
        "Decimal system:-\n",
        "- Represents a number in terms of 0 to 9 digits\n",
        "- Operates in base 10\n",
        "\n",
        "Binary system:-\n",
        "- Represents a number in terms of 0 and 1 digits\n",
        "- Operates in base 2\n",
        "\n",
        "Ternary system:-\n",
        "- Represents a number in terms of 0, 1 and digits\n",
        "- Operates in base 3"
      ],
      "metadata": {
        "id": "pFwCY1w6emzS"
      }
    },
    {
      "cell_type": "markdown",
      "source": [
        "Decimal expansion for 147.3.\n",
        "\n"
      ],
      "metadata": {
        "id": "X-0up1CeJu3e"
      }
    },
    {
      "cell_type": "code",
      "source": [
        "147.3 == (1 * 10**2) + (4 * 10**1) + (7 * 10**0) + (3 * 10**(-1))"
      ],
      "metadata": {
        "colab": {
          "base_uri": "https://localhost:8080/"
        },
        "id": "m-JVtwU7i9vB",
        "outputId": "90d98ae5-3d68-447e-9756-042235aa8c52"
      },
      "execution_count": 95,
      "outputs": [
        {
          "output_type": "execute_result",
          "data": {
            "text/plain": [
              "True"
            ]
          },
          "metadata": {},
          "execution_count": 95
        }
      ]
    },
    {
      "cell_type": "markdown",
      "source": [
        "Show 121(base3) is equal to 16(base10).\n"
      ],
      "metadata": {
        "id": "wwYwYVFBJ0An"
      }
    },
    {
      "cell_type": "code",
      "source": [
        "(1 * 3**2) + (2 * 3**1) + (1 * 3**0) == (1 * 10**1) + (6 * 10**0)"
      ],
      "metadata": {
        "colab": {
          "base_uri": "https://localhost:8080/"
        },
        "id": "Xyoe8RFmkHi8",
        "outputId": "c837ce3f-c73a-4328-da84-dd9608266ce4"
      },
      "execution_count": 96,
      "outputs": [
        {
          "output_type": "execute_result",
          "data": {
            "text/plain": [
              "True"
            ]
          },
          "metadata": {},
          "execution_count": 96
        }
      ]
    },
    {
      "cell_type": "markdown",
      "source": [
        "Convert 11(base10) into binary.\n"
      ],
      "metadata": {
        "id": "nzZdwzVsJ6Jx"
      }
    },
    {
      "cell_type": "code",
      "source": [
        "11 == 8 + 2 + 1 == (1 * 2**3) + (0 * 2**2) + (1 * 2**1) + (1 * 2**0)\n",
        "\n",
        "  # 11(base 10) = 1011(base2)"
      ],
      "metadata": {
        "colab": {
          "base_uri": "https://localhost:8080/"
        },
        "id": "3zCiYDfrklLQ",
        "outputId": "54ecf946-4be8-498a-d229-d52b464f8e9f"
      },
      "execution_count": 97,
      "outputs": [
        {
          "output_type": "execute_result",
          "data": {
            "text/plain": [
              "True"
            ]
          },
          "metadata": {},
          "execution_count": 97
        }
      ]
    },
    {
      "cell_type": "markdown",
      "source": [
        "Convert 37(base10) into binary."
      ],
      "metadata": {
        "id": "L9qdgqdyKCdg"
      }
    },
    {
      "cell_type": "code",
      "source": [
        "37 == 32 + 4 + 1 == (1 * 2**5) + (0 * 2**4) + (0 * 2**3) + (1 * 2**2) + (0 * 2**1) + (1 * 2**0)\n",
        "\n",
        "  # 37(base10) = 100101(base2)"
      ],
      "metadata": {
        "colab": {
          "base_uri": "https://localhost:8080/"
        },
        "id": "1WfVVmqPmXGK",
        "outputId": "eb01c888-e08a-4ff0-feef-65578777ab5b"
      },
      "execution_count": 98,
      "outputs": [
        {
          "output_type": "execute_result",
          "data": {
            "text/plain": [
              "True"
            ]
          },
          "metadata": {},
          "execution_count": 98
        }
      ]
    },
    {
      "cell_type": "markdown",
      "source": [
        "Convert 17(base10) into binary."
      ],
      "metadata": {
        "id": "ymuWQlKbKJSh"
      }
    },
    {
      "cell_type": "code",
      "source": [
        "17 == 16 + 1 == (1 * 2**4) + (0 * 2**3) + (0 * 2**2) + (0 * 2**1) + (1 * 2**0)\n",
        "\n",
        "  # 17(base10) = 10001(base2)"
      ],
      "metadata": {
        "colab": {
          "base_uri": "https://localhost:8080/"
        },
        "id": "0AHwvT4QnC-M",
        "outputId": "be3b1add-b2f9-4b11-d7c5-f16a7f44b38f"
      },
      "execution_count": 99,
      "outputs": [
        {
          "output_type": "execute_result",
          "data": {
            "text/plain": [
              "True"
            ]
          },
          "metadata": {},
          "execution_count": 99
        }
      ]
    },
    {
      "cell_type": "markdown",
      "source": [
        "Addition in decimal."
      ],
      "metadata": {
        "id": "dt-IchUCKRwJ"
      }
    },
    {
      "cell_type": "code",
      "source": [
        "37 + 17"
      ],
      "metadata": {
        "colab": {
          "base_uri": "https://localhost:8080/"
        },
        "id": "bYqYPDJeoxMF",
        "outputId": "5004401f-1a9e-4779-e443-6525493b81f9"
      },
      "execution_count": 100,
      "outputs": [
        {
          "output_type": "execute_result",
          "data": {
            "text/plain": [
              "54"
            ]
          },
          "metadata": {},
          "execution_count": 100
        }
      ]
    },
    {
      "cell_type": "markdown",
      "source": [
        "Addition in binary."
      ],
      "metadata": {
        "id": "YMyyoFg-LF9w"
      }
    },
    {
      "cell_type": "code",
      "source": [
        "54 == (1 * 2**5) + (1 * 2**4) + (0 * 2**3) + (1 * 2**2) + (1 * 2**1) + (0 * 2**0)\n",
        "\n",
        "  # (100101 + 10001 = 110110)"
      ],
      "metadata": {
        "colab": {
          "base_uri": "https://localhost:8080/"
        },
        "id": "DPyVPZMyqeVF",
        "outputId": "834f8812-32d5-4d25-f3f4-078f1dd6afb2"
      },
      "execution_count": 101,
      "outputs": [
        {
          "output_type": "execute_result",
          "data": {
            "text/plain": [
              "True"
            ]
          },
          "metadata": {},
          "execution_count": 101
        }
      ]
    },
    {
      "cell_type": "markdown",
      "source": [
        "Multiplication in decimal."
      ],
      "metadata": {
        "id": "CPjroLuhLO2y"
      }
    },
    {
      "cell_type": "code",
      "source": [
        "37 * 17"
      ],
      "metadata": {
        "colab": {
          "base_uri": "https://localhost:8080/"
        },
        "id": "OEBJlq3ap1P5",
        "outputId": "671ba6d6-38e5-42d0-cbc7-c612838e8886"
      },
      "execution_count": 102,
      "outputs": [
        {
          "output_type": "execute_result",
          "data": {
            "text/plain": [
              "629"
            ]
          },
          "metadata": {},
          "execution_count": 102
        }
      ]
    },
    {
      "cell_type": "markdown",
      "source": [
        "Multiplication in binary."
      ],
      "metadata": {
        "id": "X5GJXJwmLRSP"
      }
    },
    {
      "cell_type": "code",
      "source": [
        "629 == 512 + 64 + 32 + 16 + 4 + 1 == (1 * 2**9) + (0 * 2**8) + (0 * 2**7) + (1 * 2**6) + (1 * 2**5) + (1 * 2**4) + (0 * 2**3) + (1 * 2**2) + (0 * 2**1) + (1 * 2**0)\n",
        "\n",
        "  # (100101 * 10001 = 1001110101)"
      ],
      "metadata": {
        "colab": {
          "base_uri": "https://localhost:8080/"
        },
        "id": "2f8d8utEtDBI",
        "outputId": "c4ada780-5fe6-4806-e2dd-7158ac0e6551"
      },
      "execution_count": 103,
      "outputs": [
        {
          "output_type": "execute_result",
          "data": {
            "text/plain": [
              "True"
            ]
          },
          "metadata": {},
          "execution_count": 103
        }
      ]
    },
    {
      "cell_type": "markdown",
      "source": [
        "Decimal expansion for 427.5"
      ],
      "metadata": {
        "id": "dsK-FWjdLX3S"
      }
    },
    {
      "cell_type": "code",
      "source": [
        "427.5 == (4 * 10**2) + (2 * 10**1) + (7 * 10**0) + (5 * 10**(-1))"
      ],
      "metadata": {
        "colab": {
          "base_uri": "https://localhost:8080/"
        },
        "id": "6sjR18ezfK6K",
        "outputId": "e3f565ce-1a5f-469d-a80f-fa2aa53ceb6f"
      },
      "execution_count": 104,
      "outputs": [
        {
          "output_type": "execute_result",
          "data": {
            "text/plain": [
              "True"
            ]
          },
          "metadata": {},
          "execution_count": 104
        }
      ]
    },
    {
      "cell_type": "markdown",
      "source": [
        "Decimal to binary for 427.5"
      ],
      "metadata": {
        "id": "yOSSMETXLZ5H"
      }
    },
    {
      "cell_type": "code",
      "source": [
        "427.5 == (1 * 2**8) + (1 * 2**7) + (0 * 2**6) + (1 * 2**5) + (0 * 2**4) + (1 * 2**3) + (0 * 2**2) + (1 * 2**1) + (1 * 2**0) + (1 * 2**(-1))\n",
        "\n",
        "  # 427.5(base 10) = 110101011.1(base 2)"
      ],
      "metadata": {
        "colab": {
          "base_uri": "https://localhost:8080/"
        },
        "id": "wke3nX2qfjJC",
        "outputId": "15706d9c-8378-4ece-988c-386c92c370d1"
      },
      "execution_count": 105,
      "outputs": [
        {
          "output_type": "execute_result",
          "data": {
            "text/plain": [
              "True"
            ]
          },
          "metadata": {},
          "execution_count": 105
        }
      ]
    },
    {
      "cell_type": "markdown",
      "source": [
        "# **9.2 Floating Point Numbers**"
      ],
      "metadata": {
        "id": "LL_qrjvJlf9m"
      }
    },
    {
      "cell_type": "markdown",
      "source": [
        "Floating point numbers or floats help store higly precise, extremely large to extremely small numbers in a computer that has a fixed amount of storage.\n",
        "\n",
        "This is achieved by splitting the storage space (64 total bits) into three parts: the sign indicator (s), exponent (e), and the fraction (f). The sign indicator tells us whether the number is positive or negative and uses 1 bit. The exponent indicates the power of 2 and uses 11 bits. The fraction is the coefficient of the exponent and uses 52 bits."
      ],
      "metadata": {
        "id": "3SAmrmW9AKDQ"
      }
    },
    {
      "cell_type": "code",
      "source": [
        "import sys\n",
        "sys.float_info"
      ],
      "metadata": {
        "colab": {
          "base_uri": "https://localhost:8080/"
        },
        "id": "V_yEiTszllii",
        "outputId": "86bf1b5b-bb03-44dd-eda6-acc3ec7473a0"
      },
      "execution_count": 106,
      "outputs": [
        {
          "output_type": "execute_result",
          "data": {
            "text/plain": [
              "sys.float_info(max=1.7976931348623157e+308, max_exp=1024, max_10_exp=308, min=2.2250738585072014e-308, min_exp=-1021, min_10_exp=-307, dig=15, mant_dig=53, epsilon=2.220446049250313e-16, radix=2, rounds=1)"
            ]
          },
          "metadata": {},
          "execution_count": 106
        }
      ]
    },
    {
      "cell_type": "code",
      "source": [
        "# 15.0(base10) in IEEE754\n",
        "  # 15 > 0, therefore s = 0\n",
        "  # e = 3"
      ],
      "metadata": {
        "id": "Ejz4GTg3B59p"
      },
      "execution_count": 107,
      "outputs": []
    },
    {
      "cell_type": "markdown",
      "source": [
        "Using the spacing function to determine the gap at 1e8."
      ],
      "metadata": {
        "id": "8H2Tbl37WHmX"
      }
    },
    {
      "cell_type": "code",
      "source": [
        "import numpy as np"
      ],
      "metadata": {
        "id": "coLiqwOWVYh1"
      },
      "execution_count": 108,
      "outputs": []
    },
    {
      "cell_type": "code",
      "source": [
        "np.spacing(1e8)"
      ],
      "metadata": {
        "colab": {
          "base_uri": "https://localhost:8080/"
        },
        "id": "dAtV4R-bVbah",
        "outputId": "21d7ada5-a9e5-448a-d7f8-3cc864bb5697"
      },
      "execution_count": 109,
      "outputs": [
        {
          "output_type": "execute_result",
          "data": {
            "text/plain": [
              "1.4901161193847656e-08"
            ]
          },
          "metadata": {},
          "execution_count": 109
        }
      ]
    },
    {
      "cell_type": "code",
      "source": [
        "1e8 == (1e8 + np.spacing(1e8)/8)"
      ],
      "metadata": {
        "colab": {
          "base_uri": "https://localhost:8080/"
        },
        "id": "N09wa3sJVjK1",
        "outputId": "970f8671-84da-4b56-f840-1646e7a9a5b3"
      },
      "execution_count": 110,
      "outputs": [
        {
          "output_type": "execute_result",
          "data": {
            "text/plain": [
              "True"
            ]
          },
          "metadata": {},
          "execution_count": 110
        }
      ]
    },
    {
      "cell_type": "markdown",
      "source": [
        "Thus, we have verified that adding a number to 1e8 that is less than half the gap at 1e8 yields the same number."
      ],
      "metadata": {
        "id": "N4MrvZ3wWO88"
      }
    },
    {
      "cell_type": "markdown",
      "source": [
        "Verify that adding 4 to the maximum 64 bits float yields the same number."
      ],
      "metadata": {
        "id": "G5LfDA5IWjoi"
      }
    },
    {
      "cell_type": "code",
      "source": [
        "sys.float_info.max + 4 == sys.float_info.max"
      ],
      "metadata": {
        "colab": {
          "base_uri": "https://localhost:8080/"
        },
        "id": "aH1_p17vW_fG",
        "outputId": "1db56dc7-5f05-4dc5-b0de-848cd4777ec5"
      },
      "execution_count": 111,
      "outputs": [
        {
          "output_type": "execute_result",
          "data": {
            "text/plain": [
              "True"
            ]
          },
          "metadata": {},
          "execution_count": 111
        }
      ]
    },
    {
      "cell_type": "markdown",
      "source": [
        "Verify that adding the maximum 64 bits float with itself leads to an overflow where this overflow number is assigned to inf."
      ],
      "metadata": {
        "id": "PdoLMJncXXu5"
      }
    },
    {
      "cell_type": "code",
      "source": [
        "sys.float_info.max + sys.float_info.max"
      ],
      "metadata": {
        "colab": {
          "base_uri": "https://localhost:8080/"
        },
        "id": "ALjm_GOxXIik",
        "outputId": "072fb90d-9ef8-4fc7-a01b-cf6dd03d8aa8"
      },
      "execution_count": 112,
      "outputs": [
        {
          "output_type": "execute_result",
          "data": {
            "text/plain": [
              "inf"
            ]
          },
          "metadata": {},
          "execution_count": 112
        }
      ]
    },
    {
      "cell_type": "markdown",
      "source": [
        "Show that 2 raised to -1075 underflows to 0.0."
      ],
      "metadata": {
        "id": "FC86Qn5LXu8D"
      }
    },
    {
      "cell_type": "code",
      "source": [
        "2**(-1075)"
      ],
      "metadata": {
        "colab": {
          "base_uri": "https://localhost:8080/"
        },
        "id": "4tCyeTSgX9WZ",
        "outputId": "b8f571fd-2c24-46d3-c0c4-1f3528929bbb"
      },
      "execution_count": 113,
      "outputs": [
        {
          "output_type": "execute_result",
          "data": {
            "text/plain": [
              "0.0"
            ]
          },
          "metadata": {},
          "execution_count": 113
        }
      ]
    },
    {
      "cell_type": "markdown",
      "source": [
        "Show that 2 raised to -1074 does not overflow."
      ],
      "metadata": {
        "id": "XZolfEiAYD9a"
      }
    },
    {
      "cell_type": "code",
      "source": [
        "2**(-1074)"
      ],
      "metadata": {
        "colab": {
          "base_uri": "https://localhost:8080/"
        },
        "id": "vDg9Ei5FYKQt",
        "outputId": "4b78f432-1a17-4c54-e1fa-056189023b75"
      },
      "execution_count": 114,
      "outputs": [
        {
          "output_type": "execute_result",
          "data": {
            "text/plain": [
              "5e-324"
            ]
          },
          "metadata": {},
          "execution_count": 114
        }
      ]
    },
    {
      "cell_type": "markdown",
      "source": [
        "# **9.3 Round-off Errors**"
      ],
      "metadata": {
        "id": "y8IMILB3B5wo"
      }
    },
    {
      "cell_type": "code",
      "source": [
        "5 - 4.2"
      ],
      "metadata": {
        "colab": {
          "base_uri": "https://localhost:8080/"
        },
        "id": "oVkGFZaiEhiy",
        "outputId": "e29374b4-1b07-40a6-d02c-8946771b9ce0"
      },
      "execution_count": 115,
      "outputs": [
        {
          "output_type": "execute_result",
          "data": {
            "text/plain": [
              "0.7999999999999998"
            ]
          },
          "metadata": {},
          "execution_count": 115
        }
      ]
    },
    {
      "cell_type": "markdown",
      "source": [
        "  We expect the difference to be equal to 0.8, however, it is not due to a rounding error.\n"
      ],
      "metadata": {
        "id": "Ej892MSbHRa_"
      }
    },
    {
      "cell_type": "code",
      "source": [
        "0.4 + 0.2 + 0.8"
      ],
      "metadata": {
        "colab": {
          "base_uri": "https://localhost:8080/"
        },
        "id": "JOcxExL_Fdlz",
        "outputId": "391ed55b-76d1-417a-8964-9d07b162a1b9"
      },
      "execution_count": 116,
      "outputs": [
        {
          "output_type": "execute_result",
          "data": {
            "text/plain": [
              "1.4000000000000001"
            ]
          },
          "metadata": {},
          "execution_count": 116
        }
      ]
    },
    {
      "cell_type": "markdown",
      "source": [
        "  We expect the sum to be equal to 1.4, however, it is not due to a rounding error."
      ],
      "metadata": {
        "id": "tHaUQ0E4HVTK"
      }
    },
    {
      "cell_type": "code",
      "source": [
        "round(5 - 4.2, 5) == 0.8"
      ],
      "metadata": {
        "colab": {
          "base_uri": "https://localhost:8080/"
        },
        "id": "59xKfr8YGHyY",
        "outputId": "be13b2d0-8f6e-49a6-f153-cbf9d8d49f44"
      },
      "execution_count": 117,
      "outputs": [
        {
          "output_type": "execute_result",
          "data": {
            "text/plain": [
              "True"
            ]
          },
          "metadata": {},
          "execution_count": 117
        }
      ]
    },
    {
      "cell_type": "markdown",
      "source": [
        "To solve this issue, the round function can be used."
      ],
      "metadata": {
        "id": "1YHC7BINHYRS"
      }
    },
    {
      "cell_type": "code",
      "source": [
        "round(0.4 + 0.2 + 0.8, 5) == 1.4"
      ],
      "metadata": {
        "colab": {
          "base_uri": "https://localhost:8080/"
        },
        "id": "EYRkQfUWGxBW",
        "outputId": "e44db3dd-f182-4d8b-ae81-f70dd28653a3"
      },
      "execution_count": 118,
      "outputs": [
        {
          "output_type": "execute_result",
          "data": {
            "text/plain": [
              "True"
            ]
          },
          "metadata": {},
          "execution_count": 118
        }
      ]
    },
    {
      "cell_type": "markdown",
      "source": [
        "Unfortunately, a sequence of calculations on an initial input with round-off errors can begin to accumulate in a manner where the errors magnify.\n",
        "\n",
        "Below, we can observe that with an increase in the number of iterations, the errors begin to accumulate, thus affecting the result."
      ],
      "metadata": {
        "id": "-4g896mIHaok"
      }
    },
    {
      "cell_type": "code",
      "source": [
        "def addsub(iterations):\n",
        "  result = 1\n",
        "\n",
        "  for i in range(iterations):\n",
        "    result += 1/3\n",
        "\n",
        "  for i in range(iterations):\n",
        "    result -= 1/3\n",
        "  return result"
      ],
      "metadata": {
        "id": "CUWW9bftHLqQ"
      },
      "execution_count": 119,
      "outputs": []
    },
    {
      "cell_type": "code",
      "source": [
        "  addsub(4) # Adding 1/3 and subtracting 1/3 from 1 for 4 times"
      ],
      "metadata": {
        "colab": {
          "base_uri": "https://localhost:8080/"
        },
        "id": "l27VFEYFImhx",
        "outputId": "61c1a17d-71a1-43c3-8f5b-65d2aa71f8ef"
      },
      "execution_count": 120,
      "outputs": [
        {
          "output_type": "execute_result",
          "data": {
            "text/plain": [
              "1.0"
            ]
          },
          "metadata": {},
          "execution_count": 120
        }
      ]
    },
    {
      "cell_type": "code",
      "source": [
        "  addsub(400) # Adding 1/3 and subtracting 1/3 from 1 for 400 times"
      ],
      "metadata": {
        "colab": {
          "base_uri": "https://localhost:8080/"
        },
        "id": "Z_TXZ0U8IkBn",
        "outputId": "02eea3cf-6bef-4d12-ee7c-c4788d26219b"
      },
      "execution_count": 121,
      "outputs": [
        {
          "output_type": "execute_result",
          "data": {
            "text/plain": [
              "1.0000000000000064"
            ]
          },
          "metadata": {},
          "execution_count": 121
        }
      ]
    },
    {
      "cell_type": "code",
      "source": [
        "  addsub(4000) # Adding 1/3 and subtracting 1/3 from 1 for 4000 times"
      ],
      "metadata": {
        "colab": {
          "base_uri": "https://localhost:8080/"
        },
        "id": "HySYywTbItjx",
        "outputId": "27375922-5f53-4833-bbcb-f9517dbeef68"
      },
      "execution_count": 122,
      "outputs": [
        {
          "output_type": "execute_result",
          "data": {
            "text/plain": [
              "0.9999999999998916"
            ]
          },
          "metadata": {},
          "execution_count": 122
        }
      ]
    }
  ]
}