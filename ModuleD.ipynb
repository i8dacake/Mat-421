{
  "nbformat": 4,
  "nbformat_minor": 0,
  "metadata": {
    "colab": {
      "provenance": [],
      "authorship_tag": "ABX9TyNygnx1fKEthOCYGyRHunnF",
      "include_colab_link": true
    },
    "kernelspec": {
      "name": "python3",
      "display_name": "Python 3"
    },
    "language_info": {
      "name": "python"
    }
  },
  "cells": [
    {
      "cell_type": "markdown",
      "metadata": {
        "id": "view-in-github",
        "colab_type": "text"
      },
      "source": [
        "<a href=\"https://colab.research.google.com/github/i8dacake/Mat-421/blob/main/ModuleD.ipynb\" target=\"_parent\"><img src=\"https://colab.research.google.com/assets/colab-badge.svg\" alt=\"Open In Colab\"/></a>"
      ]
    },
    {
      "cell_type": "markdown",
      "source": [
        "# **Linear Algebra**"
      ],
      "metadata": {
        "id": "By7GLTHH__La"
      }
    },
    {
      "cell_type": "markdown",
      "source": [
        "### **1.1 Introduction**"
      ],
      "metadata": {
        "id": "YODwXsAdAoMJ"
      }
    },
    {
      "cell_type": "markdown",
      "source": [
        "In STEM, one comes across a system of linear relationships. These relationships can be learnt through a comprehensive understanding of Linear Algebra.\n",
        "\n",
        "It is essential to understand some fundamentals before diving into linear systems.\n",
        "\n",
        "A **set** is a collection of objects and is denoted by braces {}. An  **empty set** contains no objects and is denoted by empty braces {}. Given two sets, M and N, M ∩ N is the **intersection** of M and N where the set contains all elements that belong to both M and N. On the other hand, M U N is the **union** of M and N where the set contains all the elements of A and B. When a ∈ M, we say that a is an object contained in the set M.\n",
        "\n",
        "There are several standard sets that are related to numbers: **naturals** ({1, 2, 3, ...}) , **wholes** ({0, 1, 2, 3, ...}), integers ({..., -2, -1, 0, 1, 2, ...}), **rationals** ({𝑝/𝑞 : 𝑝 ∈ ℤ, 𝑞 ∈ ℤ ∖ {0}}), **irrationals** (the set of real numbers that cannot be expressed as a fraction of integers), **reals** (rational U irrational numbers) and **complex** ({𝑎 + 𝑏𝑖 : 𝑎, 𝑏 ∈ ℝ, 𝑖 = sqrt(-1)}).\n",
        "\n",
        "A **vector** in $ℝ^n$ is an n-tuple, or point. It can be written horizontally (**row vector**) or vertically (**column vector**). If the context of a vector is vague, it can be assumed that it is a column vector. The **zero vector** is a vector containing all zeroes. The **norm** of a vector is the value of its length. The **determinant** is a special number that can be calculated from a matrix. Vectors can be **dependent**(scalar multiples of each other or determinant is equal to 0) or **independent**(not scalar multiples of each other or determinant is not equal to 0).  \n",
        "\n",
        "A m x n **matrix** is a rectangular table of numbers consisting of m rows and n columns. The **identity matrix** is a square matrix with ones on the diagonal and zeroes everywhere else. The **inverse** N of a square matrix M has the same dimensions as the original matrix, such that M * N = I. If a matrix has an inverse, it is said to be **non-singular**, else **singular**. One of the important points to note about matrices is that matrix multiplcation is **not** commutative.\n"
      ],
      "metadata": {
        "id": "j9tOTAucAwB8"
      }
    },
    {
      "cell_type": "markdown",
      "source": [
        "***Create a row vector and column vector and show the shape of the vectors.***"
      ],
      "metadata": {
        "id": "COn-Vr9IGkJl"
      }
    },
    {
      "cell_type": "code",
      "source": [
        "import numpy as np\n",
        "\n",
        "vector_row = np.array([[1, 2, 3, 4]])\n",
        "vector_column = np.array([[1], [2], [3], [4]])\n",
        "\n",
        "print(vector_row.shape)\n",
        "print(vector_column.shape)"
      ],
      "metadata": {
        "colab": {
          "base_uri": "https://localhost:8080/"
        },
        "id": "B6jjNXtJGi9F",
        "outputId": "caa7bf23-94f4-42f2-9ea4-ca705c251e22"
      },
      "execution_count": 5,
      "outputs": [
        {
          "output_type": "stream",
          "name": "stdout",
          "text": [
            "(1, 4)\n",
            "(4, 1)\n"
          ]
        }
      ]
    },
    {
      "cell_type": "markdown",
      "source": [
        "*We can observe that the dimensions (1, 4) of the row vector is 1 row and 4 columns while the dimensions (4, 1) of the column vector is 4 rows and 1 column.*"
      ],
      "metadata": {
        "id": "yikKRNA4HJbV"
      }
    },
    {
      "cell_type": "markdown",
      "source": [
        "Many properties of sets, vectors and matrices can be verified using Python. The following example will be verifying that matrix multiplication is not commutative."
      ],
      "metadata": {
        "id": "peK0JCBWI7-n"
      }
    },
    {
      "cell_type": "markdown",
      "source": [
        "***Let the Python matrices M = [[1,7],[2,3],[5,0]] and N = [[2,6,3,1],[1,2,3,4]]. Compute the matrix product of M and N. Show that the product of M and N will produce an error.***"
      ],
      "metadata": {
        "id": "ggQ2PmQ0ICdt"
      }
    },
    {
      "cell_type": "code",
      "source": [
        "M = np.array([[1, 7], [2, 3], [5, 0]])\n",
        "\n",
        "N = np.array([[2, 6, 3, 1], [1, 2, 3, 4]])\n",
        "\n",
        "print(M)\n",
        "print(N)\n",
        "print(np.dot(M, N))\n",
        "np.dot(N, M)"
      ],
      "metadata": {
        "colab": {
          "base_uri": "https://localhost:8080/",
          "height": 378
        },
        "id": "hVHw-9-lH2ha",
        "outputId": "fd274bf0-e186-4149-a7f4-36badbc59190"
      },
      "execution_count": 6,
      "outputs": [
        {
          "output_type": "stream",
          "name": "stdout",
          "text": [
            "[[1 7]\n",
            " [2 3]\n",
            " [5 0]]\n",
            "[[2 6 3 1]\n",
            " [1 2 3 4]]\n",
            "[[ 9 20 24 29]\n",
            " [ 7 18 15 14]\n",
            " [10 30 15  5]]\n"
          ]
        },
        {
          "output_type": "error",
          "ename": "ValueError",
          "evalue": "shapes (2,4) and (3,2) not aligned: 4 (dim 1) != 3 (dim 0)",
          "traceback": [
            "\u001b[0;31m---------------------------------------------------------------------------\u001b[0m",
            "\u001b[0;31mValueError\u001b[0m                                Traceback (most recent call last)",
            "\u001b[0;32m<ipython-input-6-cf03e1e2a97d>\u001b[0m in \u001b[0;36m<cell line: 8>\u001b[0;34m()\u001b[0m\n\u001b[1;32m      6\u001b[0m \u001b[0mprint\u001b[0m\u001b[0;34m(\u001b[0m\u001b[0mN\u001b[0m\u001b[0;34m)\u001b[0m\u001b[0;34m\u001b[0m\u001b[0;34m\u001b[0m\u001b[0m\n\u001b[1;32m      7\u001b[0m \u001b[0mprint\u001b[0m\u001b[0;34m(\u001b[0m\u001b[0mnp\u001b[0m\u001b[0;34m.\u001b[0m\u001b[0mdot\u001b[0m\u001b[0;34m(\u001b[0m\u001b[0mM\u001b[0m\u001b[0;34m,\u001b[0m \u001b[0mN\u001b[0m\u001b[0;34m)\u001b[0m\u001b[0;34m)\u001b[0m\u001b[0;34m\u001b[0m\u001b[0;34m\u001b[0m\u001b[0m\n\u001b[0;32m----> 8\u001b[0;31m \u001b[0mnp\u001b[0m\u001b[0;34m.\u001b[0m\u001b[0mdot\u001b[0m\u001b[0;34m(\u001b[0m\u001b[0mN\u001b[0m\u001b[0;34m,\u001b[0m \u001b[0mM\u001b[0m\u001b[0;34m)\u001b[0m\u001b[0;34m\u001b[0m\u001b[0;34m\u001b[0m\u001b[0m\n\u001b[0m",
            "\u001b[0;32m/usr/local/lib/python3.10/dist-packages/numpy/core/overrides.py\u001b[0m in \u001b[0;36mdot\u001b[0;34m(*args, **kwargs)\u001b[0m\n",
            "\u001b[0;31mValueError\u001b[0m: shapes (2,4) and (3,2) not aligned: 4 (dim 1) != 3 (dim 0)"
          ]
        }
      ]
    },
    {
      "cell_type": "markdown",
      "source": [
        "***Use Python to find the determinant of the matrix 𝑀 = [[0,2,1,3],[3,2,8,1],[1,0,0,3],[0,3,2,1]]. Use the np.eye function to produce a 4 × 4 identity matrix, 𝐼. Multiply 𝑀 by 𝐼 to show that the result is 𝑀.***"
      ],
      "metadata": {
        "id": "-vmOwYR2LqXs"
      }
    },
    {
      "cell_type": "code",
      "source": [
        "from numpy.linalg import det\n",
        "\n",
        "M = np.array([[0,2,1,3],\n",
        "             [3,2,8,1],\n",
        "             [1,0,0,3],\n",
        "             [0,3,2,1]])\n",
        "print('M:\\n', M)\n",
        "\n",
        "print('Determinant: %.1f'%det(M))\n",
        "I = np.eye(4)\n",
        "print('I:\\n', I)\n",
        "print('M*I:\\n', np.dot(M, I))"
      ],
      "metadata": {
        "colab": {
          "base_uri": "https://localhost:8080/"
        },
        "id": "m8tLtxOZLymw",
        "outputId": "9257324f-71f3-4459-e490-51a30c8d2033"
      },
      "execution_count": 7,
      "outputs": [
        {
          "output_type": "stream",
          "name": "stdout",
          "text": [
            "M:\n",
            " [[0 2 1 3]\n",
            " [3 2 8 1]\n",
            " [1 0 0 3]\n",
            " [0 3 2 1]]\n",
            "Determinant: -38.0\n",
            "I:\n",
            " [[1. 0. 0. 0.]\n",
            " [0. 1. 0. 0.]\n",
            " [0. 0. 1. 0.]\n",
            " [0. 0. 0. 1.]]\n",
            "M*I:\n",
            " [[0. 2. 1. 3.]\n",
            " [3. 2. 8. 1.]\n",
            " [1. 0. 0. 3.]\n",
            " [0. 3. 2. 1.]]\n"
          ]
        }
      ]
    },
    {
      "cell_type": "markdown",
      "source": [
        "### **1.2 Elements of Linear Algebra**"
      ],
      "metadata": {
        "id": "r4ahVVnWAMhl"
      }
    },
    {
      "cell_type": "markdown",
      "source": [
        "A **linear combination** is a new vector that is constructed by multiplying each vector in a set of vectors by a constant and adding the results. A **span** is the set of all linear combinations of a set of vectors.  \n",
        "\n",
        "A linear subspace is a result of linear combination wherein it is closed under addition and multiplication and must contain the zero vector. A **linear subspace** is a span of set of vectors.\n",
        "\n",
        "A **column space** is the span of the columns of A.\n",
        "\n",
        "A list of vectors are **linearly independent** if they cannot be written as a linear combination of the others. And, if a list of vectors are not linearly independent, then they are **linearly dependent**.\n",
        "\n",
        "A **basis** is a list of vectors that are linearly independent.\n",
        "\n",
        "If U is a linear subspace of V, then any basis of U has the same number of elements. This number is known as the dimension of U written as dim(U). This is known as the **Dimension Theorem**. The number of elements is called the dimension of the vector space. If we use this number in the context of a matrix, then the dimension of a column space of A is called the **column rank** of A.\n",
        "\n",
        "A list of vectors {u1,...,um} is **orthonormal** if the ui’s are pairwise orthogonal and each has norm 1, that is for all i and all j  ̸ = i, ⟨ui,uj⟩ = 0, and ∥ui∥ = 1.\n",
        "\n",
        "The **Pythagorean Theorem**, let u,v ∈ V be orthogonal. Then, $∥u+ v∥^2$ = $∥u∥^2$ + $∥v∥^2$.\n",
        "\n",
        "The **Cauchy-Schwarz** lemma os that for any u, v ∈ V, |⟨u, v⟩| ≤ ∥u∥∥v∥.\n",
        "\n",
        "Suppose U be a linear subspace of V with orthonormal basis m1,..., mn, and let v V. Then, ||v-Pu v|| = ||v-u|| for any u > U is valid. This is the **Best Approximation Theorem.**\n",
        "\n",
        "Let A ∈ R^(d×d) be a square matrix. Then λ ∈ R is an **eigenvalue** of A if there exists a nonzero vector x  ̸ = 0 such that Ax = λ x. Here, the vector x is referred to as an **eigenvector**. If a matrix A is symmetric, then any two eigenvectors from different eigenspaces are orthogonal."
      ],
      "metadata": {
        "id": "E89fXX-IMdmT"
      }
    },
    {
      "cell_type": "markdown",
      "source": [
        "***Given the row vectors 𝑣 = [0,3,2], 𝑤 = [4,1,1], and 𝑢 = [0,−2,0], write the vector 𝑥 = [−8,−1,4] as a linear combination of 𝑣, 𝑤, and 𝑢.***"
      ],
      "metadata": {
        "id": "Iw1b5H6rSi6H"
      }
    },
    {
      "cell_type": "code",
      "source": [
        "v = np.array([[0, 3, 2]])\n",
        "w = np.array([[4, 1, 1]])\n",
        "u = np.array([[0, -2, 0]])\n",
        "x = 3*v-2*w+4*u\n",
        "print(x)"
      ],
      "metadata": {
        "colab": {
          "base_uri": "https://localhost:8080/"
        },
        "id": "CXVd7mz_Souc",
        "outputId": "ed90f1c0-1aac-4d8d-e057-d2fc4dbd6f5e"
      },
      "execution_count": 13,
      "outputs": [
        {
          "output_type": "stream",
          "name": "stdout",
          "text": [
            "[[-8 -1  4]]\n"
          ]
        }
      ]
    },
    {
      "cell_type": "markdown",
      "source": [
        "***Given the vectors 𝑣 = [0,2,0] and 𝑤 = [3,0,0], use the Numpy function cross to compute the cross product of v and w.***"
      ],
      "metadata": {
        "id": "G6gHNU4dVFn0"
      }
    },
    {
      "cell_type": "code",
      "source": [
        "v = np.array([[0, 2, 0]])\n",
        "w = np.array([[3, 0, 0]])\n",
        "print(np.cross(v, w))"
      ],
      "metadata": {
        "colab": {
          "base_uri": "https://localhost:8080/"
        },
        "id": "HtcioPAzVJ-u",
        "outputId": "fa9c83cb-6c94-4d24-ca39-7eb42fe63646"
      },
      "execution_count": 14,
      "outputs": [
        {
          "output_type": "stream",
          "name": "stdout",
          "text": [
            "[[ 0  0 -6]]\n"
          ]
        }
      ]
    },
    {
      "cell_type": "markdown",
      "source": [
        "***Calculate the eigenvalues and eigenvectors for matrix 𝐴 = [0, 2 ; 2, 3].***"
      ],
      "metadata": {
        "id": "qCji1dp-RAY9"
      }
    },
    {
      "cell_type": "code",
      "source": [
        "import numpy as np\n",
        "from numpy.linalg import eig\n",
        "\n",
        "a = np.array([[0, 2],\n",
        "              [2, 3]])\n",
        "w,v=eig(a)\n",
        "print('E-value:', w)\n",
        "print('E-vector', v)"
      ],
      "metadata": {
        "colab": {
          "base_uri": "https://localhost:8080/"
        },
        "id": "6xyMqEQ_RAMN",
        "outputId": "f44a3d65-be9e-474c-8aaa-bec0ca464c2b"
      },
      "execution_count": 8,
      "outputs": [
        {
          "output_type": "stream",
          "name": "stdout",
          "text": [
            "E-value: [-1.  4.]\n",
            "E-vector [[-0.89442719 -0.4472136 ]\n",
            " [ 0.4472136  -0.89442719]]\n"
          ]
        }
      ]
    },
    {
      "cell_type": "markdown",
      "source": [
        "***Compute the eigenvalues and eigenvectors for matrix 𝐴 = [1, 2, 3; 4, 5, 6; 7, 8, 9].***"
      ],
      "metadata": {
        "id": "ZqYmGrNURTX-"
      }
    },
    {
      "cell_type": "code",
      "source": [
        "a = np.array([[1, 2, 3],\n",
        "              [4, 5, 6],\n",
        "              [7, 8, 9]])\n",
        "w,v=eig(a)\n",
        "print('E-value:', w)\n",
        "print('E-vector', v)"
      ],
      "metadata": {
        "colab": {
          "base_uri": "https://localhost:8080/"
        },
        "id": "rEyltGJSRKpb",
        "outputId": "230aac63-486d-4b11-b2e9-a88c4dfc7d64"
      },
      "execution_count": 10,
      "outputs": [
        {
          "output_type": "stream",
          "name": "stdout",
          "text": [
            "E-value: [ 1.61168440e+01 -1.11684397e+00 -1.30367773e-15]\n",
            "E-vector [[-0.23197069 -0.78583024  0.40824829]\n",
            " [-0.52532209 -0.08675134 -0.81649658]\n",
            " [-0.8186735   0.61232756  0.40824829]]\n"
          ]
        }
      ]
    },
    {
      "cell_type": "markdown",
      "source": [
        "### **1.3 Linear Regression**"
      ],
      "metadata": {
        "id": "odUOUxjQAbpQ"
      }
    },
    {
      "cell_type": "markdown",
      "source": [
        "Linear regression is quite frequently used in the industry to build models. The models depend linearly on their unknown parameters and therefore, are easier to fit as compared to models that are non-linearly related to their parameters.\n",
        "\n",
        "**QR Decomposition** is a procedure used to solve the linear least squares problem where a matrix is broken down into two components, Q and R. The matrix A, which is to be decomposed, is transformed into the product of an orthogonal matrix Q and an upper triangular matrix R, A = Q * R. THe orthogonal matrix Q consists of columns that are orthogonal unit vectors while the upper triangular matrix R has all entries below the main diagonal as 0. The first step is to use the Gram-Schmidt algorithm to get an orthionormal basis span from a linearly independent set of span.\n",
        "\n",
        "The sytem Ax = b is often inconsistent. We want to try to use Ax to approximate b. So, we need an overdetermined system where n > m. But this matrix is not invertible. Therefore, the **Least-Squares** method works around this by looking for an approximate solution that reduces the distance between the projected data points and the actual data points."
      ],
      "metadata": {
        "id": "Tj2-SEFPZNXe"
      }
    }
  ]
}