{
  "nbformat": 4,
  "nbformat_minor": 0,
  "metadata": {
    "colab": {
      "provenance": [],
      "authorship_tag": "ABX9TyPBRtMQsudqsM5fob03DTOh",
      "include_colab_link": true
    },
    "kernelspec": {
      "name": "python3",
      "display_name": "Python 3"
    },
    "language_info": {
      "name": "python"
    }
  },
  "cells": [
    {
      "cell_type": "markdown",
      "metadata": {
        "id": "view-in-github",
        "colab_type": "text"
      },
      "source": [
        "<a href=\"https://colab.research.google.com/github/i8dacake/Mat-421/blob/main/ModuleG2.ipynb\" target=\"_parent\"><img src=\"https://colab.research.google.com/assets/colab-badge.svg\" alt=\"Open In Colab\"/></a>"
      ]
    },
    {
      "cell_type": "markdown",
      "source": [
        "# **21. Numerical Integration**"
      ],
      "metadata": {
        "id": "9ST3aZmKJQOX"
      }
    },
    {
      "cell_type": "markdown",
      "source": [
        "## **21.4 Simpson's Rule**"
      ],
      "metadata": {
        "id": "jO1nfrP7JVaq"
      }
    },
    {
      "cell_type": "markdown",
      "source": [
        "Consider two consecutive subintervals $[x_{i-1}, x_i]$ and $[x_i, x_{i+1}]$. How does **Simpson's Rule** work?\n",
        "Simpson’s Rule approximates the area under $𝑓(𝑥)$ over these two subintervals by fitting a quadratic polynomial through the points $(x_{i-1}, f(x_{i-1})), (x_i, f(x_i))$ and $(x_{i+1}, f(x_{i+1}))$, which is a unique polynomial, and then integrating the quadratic exactly.\n",
        "It is crucial to remember that to use this rule, there msut be an even number of intervals, and an odd number of grid points.\n",
        "The rule gains two orders of accuracy."
      ],
      "metadata": {
        "id": "CxGPff9DPpe0"
      }
    },
    {
      "cell_type": "markdown",
      "source": [
        "***Use Simpson’s Rule to approximate $\\int_0^𝜋sin(𝑥)𝑑𝑥$ with 11 evenly spaced grid points over the whole interval. Compare this value to the exact value of 2.***"
      ],
      "metadata": {
        "id": "mMbc9t2yRkCn"
      }
    },
    {
      "cell_type": "code",
      "source": [
        "import numpy as np\n",
        "\n",
        "a = 0\n",
        "b = np.pi\n",
        "n = 11\n",
        "h = (b - a) / (n - 1)\n",
        "x = np.linspace(a, b, n)\n",
        "f = np.sin(x)\n",
        "\n",
        "I_simp = (h/3) * (f[0] + 2*sum(f[:n-2:2]) \\\n",
        "            + 4*sum(f[1:n-1:2]) + f[n-1])\n",
        "err_simp = 2 - I_simp\n",
        "\n",
        "print(I_simp)\n",
        "print(err_simp)"
      ],
      "metadata": {
        "colab": {
          "base_uri": "https://localhost:8080/"
        },
        "id": "dDWF6j4pQnaf",
        "outputId": "70736436-4e39-48d0-a970-bd0b084ad759"
      },
      "execution_count": 7,
      "outputs": [
        {
          "output_type": "stream",
          "name": "stdout",
          "text": [
            "2.0001095173150043\n",
            "-0.00010951731500430384\n"
          ]
        }
      ]
    },
    {
      "cell_type": "markdown",
      "source": [
        "We can observe that the approximation is slightly less than the the actualm value. The approximated integral is very close to the value of 2, with a very small error of -0.00010951731500430384. It shows that the Simpson's Rule is quite reliable in numerical approximation for the integral in spite of a small number of points."
      ],
      "metadata": {
        "id": "tlHuKFo1SAmh"
      }
    },
    {
      "cell_type": "markdown",
      "source": [
        "## **21.5 Computing Integrals in Python**"
      ],
      "metadata": {
        "id": "LLJ5GZpiJaZ4"
      }
    },
    {
      "cell_type": "markdown",
      "source": [
        "To compute integrals, one can make use of the $scipy.integrate$ sub-package which contains several functions for such computations. The $trapz$ takes an array of function values $f$ as inputs computed on a numerical grid $x$."
      ],
      "metadata": {
        "id": "_NYD8oaHJqDL"
      }
    },
    {
      "cell_type": "markdown",
      "source": [
        "***Use the $𝑡𝑟𝑎𝑝𝑧$ function to approximate $\\int_0^𝜋sin(𝑥) 𝑑𝑥$ for 11 equally spaced points over the whole interval. Compare this value to the one computed in the early example using the Trapezoid Rule.***"
      ],
      "metadata": {
        "id": "LVnTduwYKl9N"
      }
    },
    {
      "cell_type": "code",
      "execution_count": 1,
      "metadata": {
        "colab": {
          "base_uri": "https://localhost:8080/"
        },
        "id": "NJUFyqAOJJLX",
        "outputId": "10d3400c-8eb2-4e30-8093-f15f38baf200"
      },
      "outputs": [
        {
          "output_type": "stream",
          "name": "stdout",
          "text": [
            "1.9835235375094544\n",
            "1.9835235375094546\n"
          ]
        }
      ],
      "source": [
        "import numpy as np\n",
        "from scipy.integrate import trapz\n",
        "\n",
        "a = 0\n",
        "b = np.pi\n",
        "n = 11\n",
        "h = (b - a) / (n - 1)\n",
        "x = np.linspace(a, b, n)\n",
        "f = np.sin(x)\n",
        "\n",
        "I_trapz = trapz(f,x)\n",
        "I_trap = (h/2)*(f[0] + 2 * sum(f[1:n-1]) + f[n-1])\n",
        "\n",
        "print(I_trapz)\n",
        "print(I_trap)"
      ]
    },
    {
      "cell_type": "markdown",
      "source": [
        "Both methods yield a similar result, with a very small difference owing to floating-point arithmetic precision. Next, how do we approximate the **cumulative integral**, i.e., $F(X) = \\int_{x_0}^X f(x) dx$? We can use the $𝑐𝑢𝑚𝑡𝑟𝑎𝑝𝑧$ function $𝑐𝑢𝑚𝑠𝑢𝑚$ which takes the same input as $trapz$."
      ],
      "metadata": {
        "id": "F9QnYU-CLaxa"
      }
    },
    {
      "cell_type": "markdown",
      "source": [
        "***Use the $𝑐𝑢𝑚𝑡𝑟𝑎𝑝𝑧$ function to approximate the cumulative integral of $𝑓(𝑥) = sin(𝑥)$ from 0 to 𝜋 with a discretization step of 0.01. The exact solution of this integral is $𝐹(𝑥) = 𝑠𝑖𝑛(𝑥)$. Plot the results.***"
      ],
      "metadata": {
        "id": "_TU536NuMMqp"
      }
    },
    {
      "cell_type": "code",
      "source": [
        "from scipy.integrate import cumtrapz\n",
        "import matplotlib.pyplot as plt\n",
        "\n",
        "%matplotlib inline\n",
        "\n",
        "x = np.arange(0, np.pi, 0.01)\n",
        "F_exact = -np.cos(x)\n",
        "F_approx = cumtrapz(np.sin(x), x)\n",
        "\n",
        "plt.figure(figsize = (4,4))\n",
        "plt.plot(x, F_exact)\n",
        "plt.plot(x[1::], F_approx)\n",
        "plt.grid()\n",
        "plt.tight_layout()\n",
        "plt.title('$F(x) = \\int_0^{x} sin(y) dy$')\n",
        "plt.xlabel('x')\n",
        "plt.ylabel('f(x)')\n",
        "plt.legend(['Exact with Offset', 'Approx'])\n",
        "plt.show()"
      ],
      "metadata": {
        "colab": {
          "base_uri": "https://localhost:8080/",
          "height": 460
        },
        "id": "Y8EeLWB9Ku1p",
        "outputId": "1a8e3624-1096-4e98-8593-7149c9ee7e6d"
      },
      "execution_count": 5,
      "outputs": [
        {
          "output_type": "display_data",
          "data": {
            "text/plain": [
              "<Figure size 400x400 with 1 Axes>"
            ],
            "image/png": "[encoded data removed]"
          },
          "metadata": {}
        }
      ]
    },
    {
      "cell_type": "markdown",
      "source": [
        "We can observe the accuracy of the $cumtrapz$ function for giving us the numerical approximatiion that closely follows the exact solution.\n",
        "\n",
        "Another function named **𝑞𝑢𝑎𝑑**(𝑓,𝑎,𝑏) uses a different numerical differentiation scheme to approximate integrals. It integrates the function that is defined by the function object, 𝑓, from 𝑎 to 𝑏."
      ],
      "metadata": {
        "id": "Cdx2CEtkMdU-"
      }
    },
    {
      "cell_type": "markdown",
      "source": [
        "***Use the 𝑖𝑛𝑡𝑒𝑔𝑟𝑎𝑡𝑒.𝑞𝑢𝑎𝑑 function to compute $\\int_0^𝜋sin(𝑥)𝑑𝑥$. Compare your answer with the correct answer of 2.***"
      ],
      "metadata": {
        "id": "mSNYgL6ONL-4"
      }
    },
    {
      "cell_type": "code",
      "source": [
        "from scipy.integrate import quad\n",
        "\n",
        "I_quad, est_err_quad = \\\n",
        "          quad(np.sin, 0, np.pi)\n",
        "print(I_quad)\n",
        "err_quad = 2 - I_quad\n",
        "print(est_err_quad, err_quad)"
      ],
      "metadata": {
        "colab": {
          "base_uri": "https://localhost:8080/"
        },
        "id": "YX-JXOAdMUpv",
        "outputId": "99a3af22-46d7-4db1-c9ef-66cd5672653f"
      },
      "execution_count": 6,
      "outputs": [
        {
          "output_type": "stream",
          "name": "stdout",
          "text": [
            "2.0\n",
            "2.220446049250313e-14 0.0\n"
          ]
        }
      ]
    },
    {
      "cell_type": "markdown",
      "source": [
        "We can observe that the $quad$ function is reliable for numerical integration where it also automatically chooses the number of samples to yield accurate results. It provides an accurate approximation to the given function over the interval [0, 𝜋]."
      ],
      "metadata": {
        "id": "YnbBVO_OOzN6"
      }
    }
  ]
}